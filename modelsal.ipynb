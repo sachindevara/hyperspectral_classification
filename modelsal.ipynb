{
 "cells": [
  {
   "cell_type": "code",
   "execution_count": 1,
   "id": "9c402aa5-0344-4f4b-963c-df5031e64f6f",
   "metadata": {},
   "outputs": [
    {
     "data": {
      "text/html": [
       "        <script type=\"text/javascript\">\n",
       "        window.PlotlyConfig = {MathJaxConfig: 'local'};\n",
       "        if (window.MathJax && window.MathJax.Hub && window.MathJax.Hub.Config) {window.MathJax.Hub.Config({SVG: {font: \"STIX-Web\"}});}\n",
       "        if (typeof require !== 'undefined') {\n",
       "        require.undef(\"plotly\");\n",
       "        requirejs.config({\n",
       "            paths: {\n",
       "                'plotly': ['https://cdn.plot.ly/plotly-2.27.0.min']\n",
       "            }\n",
       "        });\n",
       "        require(['plotly'], function(Plotly) {\n",
       "            window._Plotly = Plotly;\n",
       "        });\n",
       "        }\n",
       "        </script>\n",
       "        "
      ]
     },
     "metadata": {},
     "output_type": "display_data"
    }
   ],
   "source": [
    "import matplotlib.pyplot as plt\n",
    "import numpy as np\n",
    "import earthpy.plot as ep\n",
    "import seaborn as sns\n",
    "import earthpy.spatial as es\n",
    "import keras\n",
    "import pandas as pd\n",
    "from keras.layers import  Conv3D, Flatten, Dense, Reshape,MaxPool3D\n",
    "from keras.layers import Dropout, Input, BatchNormalization\n",
    "from keras.models import Model\n",
    "from keras.optimizers import Adam\n",
    "from keras.callbacks import ModelCheckpoint\n",
    "from keras.utils import to_categorical\n",
    "from sklearn.decomposition import PCA\n",
    "from sklearn.model_selection import train_test_split\n",
    "from sklearn.metrics import confusion_matrix, accuracy_score, classification_report, cohen_kappa_score\n",
    "from operator import truediv\n",
    "import plotly.graph_objects as go\n",
    "import plotly.express as px\n",
    "from plotly.offline import init_notebook_mode\n",
    "from tensorflow.keras.callbacks import EarlyStopping, ModelCheckpoint, TensorBoard\n",
    "import numpy as np\n",
    "import matplotlib.pyplot as plt\n",
    "import scipy.io as sio\n",
    "import os\n",
    "import spectral\n",
    "from time import time\n",
    "init_notebook_mode(connected=True)"
   ]
  },
  {
   "cell_type": "code",
   "execution_count": 2,
   "id": "86a98bbd-905e-41ec-8115-37a5277ece45",
   "metadata": {},
   "outputs": [],
   "source": [
    "## GLOBAL VARIABLES\n",
    "dataset = 'SA'\n",
    "test_ratio = 0.7\n",
    "windowSize = 25"
   ]
  },
  {
   "cell_type": "code",
   "execution_count": 3,
   "id": "1834f091-6630-462e-bdc1-0c659a0fd3d0",
   "metadata": {},
   "outputs": [],
   "source": [
    "def loadData(name):\n",
    "    if name=='SA':\n",
    "        data = sio.loadmat('Salinas_corrected.mat')['salinas_corrected']\n",
    "        labels = sio.loadmat('Salinas_gt.mat')['salinas_gt']\n",
    "    \n",
    "    \n",
    "    return data,labels\n",
    "data,labels=loadData(dataset)"
   ]
  },
  {
   "cell_type": "code",
   "execution_count": 4,
   "id": "829a607b-7990-46f1-bea3-88466360bbf8",
   "metadata": {},
   "outputs": [],
   "source": [
    "def splitTrainTestSet(X, y, testRatio, randomState=345):\n",
    "    X_train, X_test, y_train, y_test = train_test_split(X, y, test_size=testRatio, random_state=randomState,\n",
    "                                                        stratify=y)\n",
    "    return X_train, X_test, y_train, y_test"
   ]
  },
  {
   "cell_type": "code",
   "execution_count": 5,
   "id": "e89af881-53ab-4c45-9fb3-49834fdfea2e",
   "metadata": {},
   "outputs": [],
   "source": [
    "def applyPCA(X, numComponents=75):\n",
    "    newX = np.reshape(X, (-1, X.shape[2]))\n",
    "    pca = PCA(n_components=numComponents, whiten=True)\n",
    "    newX = pca.fit_transform(newX)\n",
    "    newX = np.reshape(newX, (X.shape[0],X.shape[1], numComponents))\n",
    "    return newX, pca\n"
   ]
  },
  {
   "cell_type": "code",
   "execution_count": 6,
   "id": "df856274-d45e-4672-b290-620ba59a4107",
   "metadata": {},
   "outputs": [],
   "source": [
    "def padWithZeros(X, margin=2):\n",
    "    newX = np.zeros((X.shape[0] + 2 * margin, X.shape[1] + 2* margin, X.shape[2]))\n",
    "    x_offset = margin\n",
    "    y_offset = margin\n",
    "    newX[x_offset:X.shape[0] + x_offset, y_offset:X.shape[1] + y_offset, :] = X\n",
    "    return newX"
   ]
  },
  {
   "cell_type": "code",
   "execution_count": 7,
   "id": "f71a42ec-a882-45f0-abdc-575c3319c7c2",
   "metadata": {},
   "outputs": [],
   "source": [
    "def createImageCubes(X, y, windowSize=5, removeZeroLabels = True):\n",
    "    margin = int((windowSize - 1) / 2)\n",
    "    zeroPaddedX =padWithZeros(X, margin=margin)\n",
    "    # split patches\n",
    "    patchesData = np.zeros((X.shape[0] * X.shape[1], windowSize, windowSize, X.shape[2]))\n",
    "    patchesLabels = np.zeros((X.shape[0] * X.shape[1]))\n",
    "    patchIndex = 0\n",
    "    for r in range(margin, zeroPaddedX.shape[0] - margin):\n",
    "        for c in range(margin, zeroPaddedX.shape[1] - margin):\n",
    "            patch = zeroPaddedX[r - margin:r + margin + 1, c - margin:c + margin + 1]   \n",
    "            patchesData[patchIndex, :, :, :] = patch\n",
    "            patchesLabels[patchIndex] = y[r-margin, c-margin]\n",
    "            patchIndex = patchIndex + 1\n",
    "    if removeZeroLabels:\n",
    "        patchesData = patchesData[patchesLabels>0,:,:,:]\n",
    "        patchesLabels = patchesLabels[patchesLabels>0]\n",
    "        patchesLabels -= 1\n",
    "    return patchesData, patchesLabels"
   ]
  },
  {
   "cell_type": "code",
   "execution_count": 8,
   "id": "b1ef402e-5946-4a1e-8af7-664a81058084",
   "metadata": {},
   "outputs": [
    {
     "data": {
      "text/plain": [
       "((512, 217, 204), (512, 217))"
      ]
     },
     "execution_count": 8,
     "metadata": {},
     "output_type": "execute_result"
    }
   ],
   "source": [
    "X,y = loadData(dataset)\n",
    "X.shape, y.shape\n",
    "\n"
   ]
  },
  {
   "cell_type": "code",
   "execution_count": 9,
   "id": "d0178ab1-667b-474e-9a16-a636a2915afa",
   "metadata": {},
   "outputs": [],
   "source": [
    "K = X.shape[2]\n",
    "\n"
   ]
  },
  {
   "cell_type": "code",
   "execution_count": 10,
   "id": "c0275310-34f9-4763-b6a7-058e4efb1df8",
   "metadata": {},
   "outputs": [],
   "source": [
    "K = 30 if dataset == 'IP' else 15\n",
    "X,pca = applyPCA(X,numComponents=K)"
   ]
  },
  {
   "cell_type": "code",
   "execution_count": 11,
   "id": "414f11ff-6bc6-43ea-b614-0652db6fdd5b",
   "metadata": {},
   "outputs": [],
   "source": [
    "X.shape\n",
    "\n",
    "X, y = createImageCubes(X, y, windowSize=windowSize)\n"
   ]
  },
  {
   "cell_type": "code",
   "execution_count": 12,
   "id": "468d75e9-fc03-4c7c-a052-92c77a1b0d09",
   "metadata": {},
   "outputs": [
    {
     "data": {
      "text/plain": [
       "((54129, 25, 25, 15), (54129,))"
      ]
     },
     "execution_count": 12,
     "metadata": {},
     "output_type": "execute_result"
    }
   ],
   "source": [
    "X.shape, y.shape"
   ]
  },
  {
   "cell_type": "code",
   "execution_count": 13,
   "id": "6bb06103-a3de-46d9-9107-c14b991c4f01",
   "metadata": {},
   "outputs": [],
   "source": [
    "X_train, X_test, y_train, y_test = splitTrainTestSet(X, y, test_ratio)\n",
    "X_train, X_val, y_train, y_val = splitTrainTestSet(X_train, y_train, test_ratio)\n"
   ]
  },
  {
   "cell_type": "code",
   "execution_count": 14,
   "id": "328221b9-2098-492e-9e47-4973b24bf5d8",
   "metadata": {},
   "outputs": [
    {
     "data": {
      "text/plain": [
       "(4871,)"
      ]
     },
     "execution_count": 14,
     "metadata": {},
     "output_type": "execute_result"
    }
   ],
   "source": [
    "X_train = X_train.reshape(-1, windowSize, windowSize, K, 1)\n",
    "y_train.shape"
   ]
  },
  {
   "cell_type": "code",
   "execution_count": 15,
   "id": "6345d444-2f31-4e60-bfbc-7c6d31a1c3cc",
   "metadata": {},
   "outputs": [
    {
     "data": {
      "text/plain": [
       "(4871, 16)"
      ]
     },
     "execution_count": 15,
     "metadata": {},
     "output_type": "execute_result"
    }
   ],
   "source": [
    "y_train = to_categorical(y_train)\n",
    "y_train.shape\n",
    "\n"
   ]
  },
  {
   "cell_type": "code",
   "execution_count": 16,
   "id": "dcb48377",
   "metadata": {},
   "outputs": [
    {
     "data": {
      "text/plain": [
       "(11367, 16)"
      ]
     },
     "execution_count": 16,
     "metadata": {},
     "output_type": "execute_result"
    }
   ],
   "source": [
    "y_val=to_categorical(y_val)\n",
    "y_val.shape"
   ]
  },
  {
   "cell_type": "code",
   "execution_count": 17,
   "id": "c65aecb6",
   "metadata": {},
   "outputs": [
    {
     "data": {
      "text/plain": [
       "(37891, 16)"
      ]
     },
     "execution_count": 17,
     "metadata": {},
     "output_type": "execute_result"
    }
   ],
   "source": [
    "y_test=to_categorical(y_test)\n",
    "y_test.shape"
   ]
  },
  {
   "cell_type": "code",
   "execution_count": 18,
   "id": "1bf04459",
   "metadata": {},
   "outputs": [
    {
     "data": {
      "text/plain": [
       "((4871, 16), (11367, 16), (37891, 16))"
      ]
     },
     "execution_count": 18,
     "metadata": {},
     "output_type": "execute_result"
    }
   ],
   "source": [
    "y_train.shape, y_val.shape, y_test.shape"
   ]
  },
  {
   "cell_type": "code",
   "execution_count": 19,
   "id": "6bb59281",
   "metadata": {},
   "outputs": [
    {
     "data": {
      "text/plain": [
       "((4871, 25, 25, 15, 1), (11367, 25, 25, 15), (37891, 25, 25, 15))"
      ]
     },
     "execution_count": 19,
     "metadata": {},
     "output_type": "execute_result"
    }
   ],
   "source": [
    "X_train.shape, X_val.shape, X_test.shape"
   ]
  },
  {
   "cell_type": "code",
   "execution_count": null,
   "id": "bf5d201c-c744-464d-bc0f-58d0a9ec412b",
   "metadata": {},
   "outputs": [],
   "source": [
    "S = windowSize\n",
    "L = K\n",
    "output_units =  9 if(dataset== 'PU' or dataset=='PC') else 16\n"
   ]
  },
  {
   "cell_type": "code",
   "execution_count": null,
   "id": "1cd012ae-2c2c-4fc5-a8b5-849b6c818b85",
   "metadata": {},
   "outputs": [],
   "source": [
    "input_layer = Input((S, S, L, 1))"
   ]
  },
  {
   "cell_type": "code",
   "execution_count": null,
   "id": "2e021559-a6eb-44bd-bd0f-a7efab947bba",
   "metadata": {},
   "outputs": [],
   "source": [
    "conv_layer1 = Conv3D(filters=8, kernel_size=(3, 3, 7), activation='relu')(input_layer)\n",
    "conv_layer2 = Conv3D(filters=16, kernel_size=(3, 3, 5), activation='relu')(conv_layer1)\n",
    "pooling_layer1 = MaxPool3D(pool_size=(2,2,2))(conv_layer2)\n",
    "\n",
    "\n",
    "conv_layer3 = Conv3D(filters=32, kernel_size=(3,3,3), activation='relu')(conv_layer2)\n",
    "pooling_layer2=MaxPool3D(pool_size=(2,2,2))(conv_layer3)\n",
    "                     \n",
    "pooling_layer2=BatchNormalization()(pooling_layer2)\n",
    "                     \n",
    "\n",
    "flatten_layer = Flatten()(pooling_layer2)\n",
    "\n",
    "## fully connected layers\n",
    "dense_layer1 = Dense(units=256, activation='relu')(flatten_layer)\n",
    "dense_layer1 = Dropout(0.4)(dense_layer1)\n",
    "dense_layer2 = Dense(units=128, activation='relu')(dense_layer1)\n",
    "dense_layer2 = Dropout(0.4)(dense_layer2)\n",
    "output_layer = Dense(units=output_units, activation='softmax')(dense_layer2)\n",
    "\n",
    "model = Model(inputs=input_layer, outputs=output_layer)"
   ]
  },
  {
   "cell_type": "code",
   "execution_count": null,
   "id": "69b9023f-ca73-434c-b214-028185dfbff5",
   "metadata": {},
   "outputs": [],
   "source": [
    "model.summary()"
   ]
  },
  {
   "cell_type": "code",
   "execution_count": null,
   "id": "a41f777f-c630-4926-bfe7-303590ef93f4",
   "metadata": {},
   "outputs": [],
   "source": [
    "adam = Adam(learning_rate=0.001, weight_decay=1e-06)\n",
    "model.compile(loss='categorical_crossentropy', optimizer=adam, metrics=['accuracy'])"
   ]
  },
  {
   "cell_type": "code",
   "execution_count": null,
   "id": "26f98a3f",
   "metadata": {},
   "outputs": [],
   "source": [
    "early_stop = EarlyStopping(monitor = 'val_loss',\n",
    "                            mode = 'min',\n",
    "                            min_delta = 0,\n",
    "                            patience = 10,\n",
    "                            restore_best_weights = True)\n",
    "\n",
    "checkpoint = ModelCheckpoint(filepath = 'best-models1.keras', \n",
    "                             monitor = 'val_loss', \n",
    "                             mode ='min', \n",
    "                             save_best_only = True)\n",
    "\n",
    "tensorboard = TensorBoard(log_dir='SA_logss/{}'.format(time()))"
   ]
  },
  {
   "cell_type": "code",
   "execution_count": null,
   "id": "bcd67516",
   "metadata": {},
   "outputs": [],
   "source": [
    "filepath = \"best-models1.keras\"\n",
    "checkpoint = ModelCheckpoint(filepath, monitor='acc', verbose=1, save_best_only=True, mode='max')\n",
    "callbacks_list = [checkpoint]\n",
    "validation_data=(X_val,y_val)"
   ]
  },
  {
   "cell_type": "code",
   "execution_count": null,
   "id": "9209e530-e80d-426f-b5cc-09ba00f5d623",
   "metadata": {},
   "outputs": [],
   "source": [
    "history = model.fit(x=X_train,y= y_train,epochs=120, batch_size=256,validation_data=(X_val,y_val), callbacks=callbacks_list)"
   ]
  },
  {
   "cell_type": "code",
   "execution_count": null,
   "id": "f1f0206b",
   "metadata": {},
   "outputs": [],
   "source": [
    "import pandas as pd\n",
    "hist = pd.DataFrame(data= history.history)\n",
    "\n",
    "fig = go.Figure()\n",
    "\n",
    "fig.add_trace(go.Scatter(x = hist.index, y = hist.loss.values,\n",
    "                    mode='lines+markers',\n",
    "                    name='Train Loss'))\n",
    "\n",
    "fig.add_trace(go.Scatter(x = hist.index, y = hist.accuracy.values,\n",
    "                    mode='lines+markers',\n",
    "                    name='Train Accuracy'))\n",
    "\n",
    "\n",
    "fig.add_trace(go.Scatter(x = hist.index, y = hist.val_loss.values,\n",
    "                    mode='lines+markers', name='Test loss'))\n",
    "\n",
    "fig.add_trace(go.Scatter(x = hist.index, y = hist.val_accuracy.values,\n",
    "                    mode='lines+markers', name='Test Accuracy'))\n",
    "\n",
    "\n",
    "fig.show()"
   ]
  },
  {
   "cell_type": "code",
   "execution_count": 21,
   "id": "421072db-a95d-4573-ad77-ff3dad25acc8",
   "metadata": {},
   "outputs": [],
   "source": [
    "#model.load_weights(\"best-model1.keras\")\n",
    "from tensorflow.keras.models import load_model\n",
    "model=load_model(\"best-models1.keras\")\n",
    "model.load_weights(\"best-models1.keras\")\n"
   ]
  },
  {
   "cell_type": "code",
   "execution_count": 22,
   "id": "83601295-5425-4918-9e9c-4075819ab4d4",
   "metadata": {},
   "outputs": [
    {
     "data": {
      "text/plain": [
       "(37891, 25, 25, 15, 1)"
      ]
     },
     "execution_count": 22,
     "metadata": {},
     "output_type": "execute_result"
    }
   ],
   "source": [
    "X_test = X_test.reshape(-1, windowSize, windowSize, K, 1)\n",
    "X_test.shape\n"
   ]
  },
  {
   "cell_type": "code",
   "execution_count": 23,
   "id": "9e9d4380-55b6-4b1f-a6cd-287e87e48623",
   "metadata": {},
   "outputs": [
    {
     "data": {
      "text/plain": [
       "(37891, 16)"
      ]
     },
     "execution_count": 23,
     "metadata": {},
     "output_type": "execute_result"
    }
   ],
   "source": [
    "\n",
    "\n",
    "\n",
    "\n",
    "y_test.shape"
   ]
  },
  {
   "cell_type": "code",
   "execution_count": 24,
   "id": "0cc70767-75f1-49e6-ab2f-bf109388cfed",
   "metadata": {},
   "outputs": [
    {
     "name": "stdout",
     "output_type": "stream",
     "text": [
      "1185/1185 [==============================] - 64s 53ms/step\n"
     ]
    }
   ],
   "source": [
    "Y_pred_test = model.predict(X_test)\n",
    "y_pred_test = np.argmax(Y_pred_test, axis=1)"
   ]
  },
  {
   "cell_type": "code",
   "execution_count": 25,
   "id": "21e71c65-9d26-4c94-8ca2-6edf8eddf6aa",
   "metadata": {},
   "outputs": [
    {
     "name": "stdout",
     "output_type": "stream",
     "text": [
      "              precision    recall  f1-score   support\n",
      "\n",
      "           0       1.00      1.00      1.00      1406\n",
      "           1       1.00      1.00      1.00      2608\n",
      "           2       1.00      1.00      1.00      1383\n",
      "           3       1.00      0.99      1.00       976\n",
      "           4       1.00      1.00      1.00      1875\n",
      "           5       1.00      1.00      1.00      2771\n",
      "           6       1.00      1.00      1.00      2505\n",
      "           7       1.00      0.99      0.99      7890\n",
      "           8       1.00      1.00      1.00      4342\n",
      "           9       1.00      1.00      1.00      2295\n",
      "          10       1.00      0.99      1.00       748\n",
      "          11       1.00      1.00      1.00      1349\n",
      "          12       1.00      0.96      0.98       641\n",
      "          13       0.96      1.00      0.98       749\n",
      "          14       0.98      1.00      0.99      5088\n",
      "          15       1.00      1.00      1.00      1265\n",
      "\n",
      "    accuracy                           1.00     37891\n",
      "   macro avg       1.00      1.00      1.00     37891\n",
      "weighted avg       1.00      1.00      1.00     37891\n",
      "\n"
     ]
    }
   ],
   "source": [
    "classification = classification_report(np.argmax(y_test, axis=1), y_pred_test)\n",
    "print(classification)"
   ]
  },
  {
   "cell_type": "code",
   "execution_count": 26,
   "id": "fa91b10a-e5a9-4a18-88da-eb70fc3cba4c",
   "metadata": {},
   "outputs": [],
   "source": [
    "def AA_andEachClassAccuracy(confusion_matrix):\n",
    "    counter = confusion_matrix.shape[0]\n",
    "    list_diag = np.diag(confusion_matrix)\n",
    "    list_raw_sum = np.sum(confusion_matrix, axis=1)\n",
    "    each_acc = np.nan_to_num(truediv(list_diag, list_raw_sum))\n",
    "    average_acc = np.mean(each_acc)\n",
    "    return each_acc, average_acc"
   ]
  },
  {
   "cell_type": "code",
   "execution_count": 27,
   "id": "fa385a38-6531-49fe-bcc0-39589c210573",
   "metadata": {},
   "outputs": [],
   "source": [
    "def reports (X_test,y_test,name):\n",
    "    #start = time.time()\n",
    "    Y_pred = model.predict(X_test)\n",
    "    y_pred = np.argmax(Y_pred, axis=1)\n",
    "    #end = time.time()\n",
    "    #print(end - start)\n",
    "    if name == 'SA':\n",
    "        target_names = ['Brocoli_green_weeds_1','Brocoli_green_weeds_2','Fallow','Fallow_rough_plow','Fallow_smooth',\n",
    "                        'Stubble','Celery','Grapes_untrained','Soil_vinyard_develop','Corn_senesced_green_weeds',\n",
    "                        'Lettuce_romaine_4wk','Lettuce_romaine_5wk','Lettuce_romaine_6wk','Lettuce_romaine_7wk',\n",
    "                        'Vinyard_untrained','Vinyard_vertical_trellis']\n",
    "  \n",
    "   \n",
    "    classification = classification_report(np.argmax(y_test, axis=1), y_pred, target_names=target_names)\n",
    "    oa = accuracy_score(np.argmax(y_test, axis=1), y_pred)\n",
    "    confusion = confusion_matrix(np.argmax(y_test, axis=1), y_pred)\n",
    "    each_acc, aa = AA_andEachClassAccuracy(confusion)\n",
    "    kappa = cohen_kappa_score(np.argmax(y_test, axis=1), y_pred)\n",
    "    score = model.evaluate(X_test, y_test, batch_size=64)\n",
    "    Test_Loss =  score[0]*100\n",
    "    Test_accuracy = score[1]*100\n",
    "    \n",
    "    return classification, confusion, Test_Loss, Test_accuracy, oa*100, each_acc*100, aa*100, kappa*100"
   ]
  },
  {
   "cell_type": "code",
   "execution_count": null,
   "id": "50dd204c-04de-4c82-8ba4-84fe9061aa4d",
   "metadata": {},
   "outputs": [],
   "source": [
    "\"\"\"def reportsn(Xtest,ytest):\n",
    "    \n",
    "    \n",
    "    Y_pred=model.predict(Xtest)\n",
    "    y_pred = np.argmax (Y_pred, axis=1)\n",
    "    \n",
    "    target_names = ['Brocoli_green_weeds_1','Brocoli_green_weeds_2','Fallow','Fallow_rough_plow','Fallow_smooth',\n",
    "                        'Stubble','Celery','Grapes_untrained','Soil_vinyard_develop','Corn_senesced_green_weeds',\n",
    "                        'Lettuce_romaine_4wk','Lettuce_romaine_5wk','Lettuce_romaine_6wk','Lettuce_romaine_7wk',\n",
    "                        'Vinyard_untrained','Vinyard_vertical_trellis']\n",
    "  \n",
    "\n",
    "    classification1 = classification_report(np.argmax (ytest, axis=1), y_pred, target_names=target_names) \n",
    "    confusion1=confusion_matrix (np.argmax (ytest, axis=1), y_pred)\n",
    "    score1 = model.evaluate (Xtest, ytest, batch_size=64)\n",
    "    Test_Loss1 =score1[0]*100\n",
    "    Test_accuracy1 = score1[1]*100\n",
    "    return classification1, confusion1, Test_Loss1, Test_accuracy1, score1\"\"\""
   ]
  },
  {
   "cell_type": "code",
   "execution_count": null,
   "id": "974e92c1-c752-4bac-9d6a-0e17e8ce2586",
   "metadata": {
    "scrolled": true
   },
   "outputs": [],
   "source": [
    "classifcation1,confusion1, Test_Loss1, Test_accuracy1, score1=reportsn(Xtest,ytest)\n",
    "\n",
    "print(classification,confusion1, Test_Loss1, Test_accuracy1, score1)\n",
    "\n",
    "\n"
   ]
  },
  {
   "cell_type": "code",
   "execution_count": 28,
   "id": "44c43e11-586b-40b5-ab2a-79892e02a69e",
   "metadata": {},
   "outputs": [
    {
     "name": "stdout",
     "output_type": "stream",
     "text": [
      "1185/1185 [==============================] - 64s 54ms/step\n",
      "593/593 [==============================] - 62s 103ms/step - loss: 0.0122 - accuracy: 0.9963\n"
     ]
    }
   ],
   "source": [
    "classification, confusion, Test_loss, Test_accuracy, oa, each_acc, aa, kappa = reports(X_test,y_test,dataset)\n",
    "classification = str(classification)\n",
    "confusion = str(confusion)\n",
    "file_name = \"classification_reportsal.txt\"\n"
   ]
  },
  {
   "cell_type": "code",
   "execution_count": null,
   "id": "eb0263a1-002a-40f2-a937-380a70f04c0e",
   "metadata": {},
   "outputs": [],
   "source": [
    "with open(file_name, 'w') as x_file:\n",
    "    x_file.write('{} Test loss (%)'.format(Test_loss))\n",
    "    x_file.write('\\n')\n",
    "    x_file.write('{} Test accuracy (%)'.format(Test_accuracy))\n",
    "    x_file.write('\\n')\n",
    "    x_file.write('\\n')\n",
    "    x_file.write('{} Kappa accuracy (%)'.format(kappa))\n",
    "    x_file.write('\\n')\n",
    "    x_file.write('{} Overall accuracy (%)'.format(oa))\n",
    "    x_file.write('\\n')\n",
    "    x_file.write('{} Average accuracy (%)'.format(aa))\n",
    "    x_file.write('\\n')\n",
    "    x_file.write('\\n')\n",
    "    x_file.write('{}'.format(classification))\n",
    "    x_file.write('\\n')\n",
    "    x_file.write('{}'.format(confusion))\n"
   ]
  }
 ],
 "metadata": {
  "kernelspec": {
   "display_name": "Python 3 (ipykernel)",
   "language": "python",
   "name": "python3"
  },
  "language_info": {
   "codemirror_mode": {
    "name": "ipython",
    "version": 3
   },
   "file_extension": ".py",
   "mimetype": "text/x-python",
   "name": "python",
   "nbconvert_exporter": "python",
   "pygments_lexer": "ipython3",
   "version": "3.11.8"
  }
 },
 "nbformat": 4,
 "nbformat_minor": 5
}
